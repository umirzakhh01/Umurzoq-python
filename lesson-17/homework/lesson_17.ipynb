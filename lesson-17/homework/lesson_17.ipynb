{
 "cells": [
  {
   "cell_type": "code",
   "execution_count": null,
   "metadata": {},
   "outputs": [
    {
     "name": "stdout",
     "output_type": "stream",
     "text": [
      "[('Kira', 29)]\n"
     ]
    }
   ],
   "source": [
    "import pyodbc\n",
    "\n",
    "# Define connection string\n",
    "connection = pyodbc.connect(\n",
    "    \"DRIVER={SQL Server};\"\n",
    "    \"SERVER=TUMIRZAKH;\"\n",
    "    \"DATABASE=homework_17;\"\n",
    "    \"Trusted_Connection=yes;\"  \n",
    ")\n",
    "\n",
    "cursor = connection.cursor()\n",
    "#i created database called homework_17 in sql server to work on hometask\n",
    "'''create database homework_17\n",
    "use homework_17'''\n",
    "\n",
    "creating_table_query = 'create table Roster(Name text, Species text, Age int)'\n",
    "created_table = cursor.execute(creating_table_query)\n",
    "connection.commit()\n",
    "\n",
    "inserting_query = \"insert into Roster values('Benjamin', 'Human', 40), ('Jadzia Dax', 'Trill', 300), ('Kira', 'Bajoran', 29)\"\n",
    "inserted = cursor.execute(inserting_query)\n",
    "connection.commit()\n",
    "\n",
    "updating_query = \"UPDATE Roster SET Name = 'Ezri Dax' WHERE Age = 300\"\n",
    "cursor.execute(updating_query)  \n",
    "connection.commit()  \n",
    "\n",
    "selecting_query = \"SELECT Name, Age FROM Roster WHERE cast(Species as varchar(MAX)) = 'Bajoran'\"\n",
    "selected_result = cursor.execute(selecting_query)\n",
    "print(selected_result.fetchall())\n",
    "connection.commit()\n",
    "connection.close()\n"
   ]
  }
 ],
 "metadata": {
  "kernelspec": {
   "display_name": "Python 3",
   "language": "python",
   "name": "python3"
  },
  "language_info": {
   "codemirror_mode": {
    "name": "ipython",
    "version": 3
   },
   "file_extension": ".py",
   "mimetype": "text/x-python",
   "name": "python",
   "nbconvert_exporter": "python",
   "pygments_lexer": "ipython3",
   "version": "3.12.8"
  }
 },
 "nbformat": 4,
 "nbformat_minor": 2
}
