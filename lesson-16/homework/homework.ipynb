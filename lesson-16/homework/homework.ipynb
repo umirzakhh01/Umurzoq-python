{
 "cells": [
  {
   "cell_type": "code",
   "execution_count": null,
   "metadata": {},
   "outputs": [
    {
     "name": "stdout",
     "output_type": "stream",
     "text": [
      "Name of the thread: Thread-191 (func_for_threading)\n",
      "Name of the thread: Thread-192 (func_for_threading)\n",
      "Name of the thread: Thread-193 (func_for_threading)\n",
      "Name of the thread: Thread-194 (func_for_threading)\n",
      "Name of the thread: Thread-195 (func_for_threading)\n",
      "Name of the thread: Thread-196 (func_for_threading)\n"
     ]
    }
   ],
   "source": [
    "import threading\n",
    "\n",
    "def func_for_threading():\n",
    "    print('Name of the thread:', threading.current_thread().name)\n",
    "\n",
    "my_list = []\n",
    "for i in range(6):\n",
    "    my_thread = threading.Thread(target=func_for_threading)\n",
    "    my_list.append(my_thread)\n",
    "    my_thread.start()\n",
    "\n",
    "for thread in my_list:\n",
    "    thread.join()    "
   ]
  }
 ],
 "metadata": {
  "kernelspec": {
   "display_name": "Python 3",
   "language": "python",
   "name": "python3"
  },
  "language_info": {
   "codemirror_mode": {
    "name": "ipython",
    "version": 3
   },
   "file_extension": ".py",
   "mimetype": "text/x-python",
   "name": "python",
   "nbconvert_exporter": "python",
   "pygments_lexer": "ipython3",
   "version": "3.12.8"
  }
 },
 "nbformat": 4,
 "nbformat_minor": 2
}
