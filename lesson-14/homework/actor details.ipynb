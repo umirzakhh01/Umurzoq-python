{
 "cells": [
  {
   "cell_type": "code",
   "execution_count": 10,
   "metadata": {},
   "outputs": [
    {
     "name": "stderr",
     "output_type": "stream",
     "text": [
      "<string>:21: SyntaxWarning: invalid escape sequence '\\{'\n",
      "<string>:22: SyntaxWarning: invalid escape sequence '\\{'\n",
      "<string>:23: SyntaxWarning: invalid escape sequence '\\{'\n",
      "<>:21: SyntaxWarning: invalid escape sequence '\\{'\n",
      "<>:22: SyntaxWarning: invalid escape sequence '\\{'\n",
      "<>:23: SyntaxWarning: invalid escape sequence '\\{'\n",
      "<string>:21: SyntaxWarning: invalid escape sequence '\\{'\n",
      "<string>:22: SyntaxWarning: invalid escape sequence '\\{'\n",
      "<string>:23: SyntaxWarning: invalid escape sequence '\\{'\n",
      "<>:21: SyntaxWarning: invalid escape sequence '\\{'\n",
      "<>:22: SyntaxWarning: invalid escape sequence '\\{'\n",
      "<>:23: SyntaxWarning: invalid escape sequence '\\{'\n",
      "C:\\Users\\hp\\AppData\\Local\\Temp\\ipykernel_13816\\2428610305.py:21: SyntaxWarning: invalid escape sequence '\\{'\n",
      "  folder_path = f'Project\\{name}'\n",
      "C:\\Users\\hp\\AppData\\Local\\Temp\\ipykernel_13816\\2428610305.py:22: SyntaxWarning: invalid escape sequence '\\{'\n",
      "  csv_file_path = f'{folder_path}\\{name}.csv'\n",
      "C:\\Users\\hp\\AppData\\Local\\Temp\\ipykernel_13816\\2428610305.py:23: SyntaxWarning: invalid escape sequence '\\{'\n",
      "  jpeg_file_path = f'{folder_path}\\{name}.jpeg'\n"
     ]
    }
   ],
   "source": [
    "# Task: you need create a folder called \"PROJECT\" then you need to create a folder for each actor which include two files \n",
    "# ( CSV --ID,Name,Birth_year,Death_year,Nationality and JPEG file) \n",
    "\n",
    "import json\n",
    "import os\n",
    "import requests\n",
    "\n",
    "with open('actors.json', 'r') as f:\n",
    "    data = json.load(f)\n",
    "data   \n",
    "\n",
    "\n",
    "columns = 'id,name,birth_year,death_year,nationality\\n'\n",
    "for i in data:\n",
    "    id = i['id']\n",
    "    name = i['name']\n",
    "    birth_year = i['birth_year']\n",
    "    death_year = i.get('death_year', 'no info')\n",
    "    nationality = i['nationality']\n",
    "    actor_image = i['image']\n",
    "    folder_path = f'Project\\{name}'\n",
    "    csv_file_path = f'{folder_path}\\{name}.csv'\n",
    "    jpeg_file_path = f'{folder_path}\\{name}.jpeg'\n",
    "    os.makedirs(folder_path, exist_ok=True)\n",
    "    with open(csv_file_path, 'w') as f:\n",
    "        f.write(columns)\n",
    "        values = f'{id},{name},{birth_year},{death_year},{nationality}'\n",
    "        f.write(values)\n",
    "    with open(jpeg_file_path, 'wb') as f:\n",
    "        response = requests.get(actor_image)\n",
    "        f.write(response.content)    \n",
    "\n",
    "\n",
    "\n"
   ]
  }
 ],
 "metadata": {
  "kernelspec": {
   "display_name": "Python 3",
   "language": "python",
   "name": "python3"
  },
  "language_info": {
   "codemirror_mode": {
    "name": "ipython",
    "version": 3
   },
   "file_extension": ".py",
   "mimetype": "text/x-python",
   "name": "python",
   "nbconvert_exporter": "python",
   "pygments_lexer": "ipython3",
   "version": "3.12.8"
  }
 },
 "nbformat": 4,
 "nbformat_minor": 2
}
