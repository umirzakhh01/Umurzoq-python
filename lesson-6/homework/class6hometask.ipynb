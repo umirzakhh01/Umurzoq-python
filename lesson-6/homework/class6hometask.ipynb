{
 "cells": [
  {
   "cell_type": "code",
   "execution_count": null,
   "metadata": {},
   "outputs": [],
   "source": [
    "def uncommon_elements(list1, list2):\n",
    "    result = []\n",
    "\n",
    "\n",
    "    for num in list1:\n",
    "        if num not in list2:\n",
    "            result.append(num)\n",
    "\n",
    "    for num in list2:\n",
    "        if num not in list1:\n",
    "            result.append(num)\n",
    "\n",
    "    return result\n",
    "\n",
    "print(uncommon_elements([1, 1, 2], [2, 3, 4]))  \n",
    "print(uncommon_elements([1, 2, 3], [4, 5, 6]))  \n",
    "print(uncommon_elements([1, 1, 2, 3, 4, 2], [1, 3, 4, 5]))  "
   ]
  },
  {
   "cell_type": "code",
   "execution_count": 1,
   "metadata": {},
   "outputs": [
    {
     "name": "stdout",
     "output_type": "stream",
     "text": [
      "hel_lo\n",
      "ass_alom\n"
     ]
    }
   ],
   "source": [
    "def insert_underscores(txt):\n",
    "    vowels = \"aeiou\"\n",
    "    result = []\n",
    "    length = len(txt)\n",
    "\n",
    "    for i in range(len(txt)):\n",
    "        result.append(txt[i])\n",
    "\n",
    "        if (i + 1) % 3 == 0 and i + 1 < length:\n",
    "            \n",
    "            if txt[i] in vowels or (result and result[-1] == \"_\"):\n",
    "                continue  \n",
    "            result.append(\"_\")\n",
    "\n",
    "    return \"\".join(result)\n",
    "\n",
    "\n",
    "print(insert_underscores(\"hello\"))       \n",
    "print(insert_underscores(\"assalom\")) "
   ]
  }
 ],
 "metadata": {
  "kernelspec": {
   "display_name": "Python 3",
   "language": "python",
   "name": "python3"
  },
  "language_info": {
   "codemirror_mode": {
    "name": "ipython",
    "version": 3
   },
   "file_extension": ".py",
   "mimetype": "text/x-python",
   "name": "python",
   "nbconvert_exporter": "python",
   "pygments_lexer": "ipython3",
   "version": "3.12.8"
  }
 },
 "nbformat": 4,
 "nbformat_minor": 2
}
